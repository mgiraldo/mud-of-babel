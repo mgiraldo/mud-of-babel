{
 "cells": [
  {
   "cell_type": "code",
   "execution_count": 3,
   "metadata": {},
   "outputs": [],
   "source": [
    "import json"
   ]
  },
  {
   "cell_type": "code",
   "execution_count": 4,
   "metadata": {},
   "outputs": [],
   "source": [
    "def load_json(file):\n",
    "    f = open(file, 'r')\n",
    "    return json.load(f)"
   ]
  },
  {
   "cell_type": "code",
   "execution_count": 5,
   "metadata": {},
   "outputs": [],
   "source": [
    "def write_json(data):\n",
    "    encoded_data = json.JSONEncoder(indent=2).encode(data)\n",
    "    \n",
    "    f = open('mud_of_babel_data.json', 'w')\n",
    "    f.write(encoded_data)"
   ]
  },
  {
   "cell_type": "code",
   "execution_count": 40,
   "metadata": {},
   "outputs": [],
   "source": [
    "def build_basic_game_info():\n",
    "    return {\n",
    "        'commandCounter' : 0,\n",
    "        'gameOver' : False,\n",
    "        'introText' : '\\n\\nWelcome to the MUD of Babel!\\n',\n",
    "        'outroText' : 'Thanks For playing!',\n",
    "        'player' : {\n",
    "            'currentLocation' : '',\n",
    "            'inventory' : {},\n",
    "            'lightSource' : False\n",
    "        },\n",
    "        'map': {}\n",
    "    }"
   ]
  },
  {
   "cell_type": "code",
   "execution_count": 41,
   "metadata": {},
   "outputs": [],
   "source": [
    "def build_room(parent, info):\n",
    "    _id = \"%s_%s\" % (parent, info['id'])\n",
    "    _subject = info['subject']\n",
    "    _child_count = len(info['children'])\n",
    "    exits = {}\n",
    "    if ('next' in info):\n",
    "        exits.update({\n",
    "            'south' : {\n",
    "                'displayName' : 'South',\n",
    "                'destination' : \"%s_%s\" % (parent, info['next'])\n",
    "            }\n",
    "        })\n",
    "    if ('previous' in info):\n",
    "        exits.update({\n",
    "            'north' : {\n",
    "                'displayName' : 'North',\n",
    "                'destination' : \"%s_%s\" % (parent, info['previous'])\n",
    "            }\n",
    "        })\n",
    "    room = {\n",
    "        _id: {\n",
    "            'firstVisit' : True,\n",
    "            'displayName' : _subject,\n",
    "            'description' : \"\\nThe description for %s\\n\\n\" % _subject,\n",
    "#             'setup' : 'function(){end();}',\n",
    "            'interactables' : {\n",
    "                'helmets' : { 'look' : 'It is a pile of miner helmets with lights on them. They seem to still be operational.' },\n",
    "                'sign' : { 'look' : 'The sign reads \"Crooked Gulch Gold Mine\" and has a note tacked to the bottom of it.' },\n",
    "                'note' : { 'look' : 'Written in an untidy scroll the note reads \"Generator blew. Lights out.\"' }\n",
    "            },\n",
    "            'items' : {\n",
    "                'helmet' : {\n",
    "                    'displayName' : 'Miner Helmet',\n",
    "                    'description' : 'A trusty old miner helmet covered in minor dents. Still seems sturdy and the light works.',\n",
    "#                     'use' : 'function(){return useLightSource();}',\n",
    "                    'quantity' : 1,\n",
    "                    'hidden' : True\n",
    "                }\n",
    "            },\n",
    "            'exits' : exits\n",
    "        }\n",
    "    }\n",
    "    return room"
   ]
  },
  {
   "cell_type": "code",
   "execution_count": 42,
   "metadata": {},
   "outputs": [],
   "source": [
    "def parse_class_file(class_code):\n",
    "    raw_json = load_json((\"%s.json\" % class_code))\n",
    "    subject = raw_json[class_code]['subject']\n",
    "    game_info = build_basic_game_info()\n",
    "    rooms = {}\n",
    "    next_room = None\n",
    "    keys = list(raw_json[class_code]['children'].keys())\n",
    "    for key in keys:\n",
    "        # going south so exits are north\n",
    "        if (next_room):\n",
    "            raw_json[class_code]['children'][key]['previous'] = next_room\n",
    "        next_room = raw_json[class_code]['children'][key]['id']\n",
    "    keys.reverse()\n",
    "    for key in keys:\n",
    "        # going north so exits are south\n",
    "        if (next_room):\n",
    "            raw_json[class_code]['children'][key]['next'] = next_room\n",
    "        next_room = raw_json[class_code]['children'][key]['id']\n",
    "    for key, value in raw_json[class_code]['children'].items():\n",
    "        room = build_room(parent=class_code, info=value)\n",
    "        rooms.update(room)\n",
    "    first_room = list(rooms.keys())[0]\n",
    "    game_info['map'] = rooms\n",
    "    game_info['player']['currentLocation'] = first_room\n",
    "    write_json(game_info)\n",
    "\n",
    "parse_class_file('A')"
   ]
  },
  {
   "cell_type": "code",
   "execution_count": null,
   "metadata": {},
   "outputs": [],
   "source": []
  },
  {
   "cell_type": "code",
   "execution_count": null,
   "metadata": {},
   "outputs": [],
   "source": []
  },
  {
   "cell_type": "code",
   "execution_count": null,
   "metadata": {},
   "outputs": [],
   "source": []
  }
 ],
 "metadata": {
  "kernelspec": {
   "display_name": "Python 3",
   "language": "python",
   "name": "python3"
  },
  "language_info": {
   "codemirror_mode": {
    "name": "ipython",
    "version": 3
   },
   "file_extension": ".py",
   "mimetype": "text/x-python",
   "name": "python",
   "nbconvert_exporter": "python",
   "pygments_lexer": "ipython3",
   "version": "3.6.3"
  }
 },
 "nbformat": 4,
 "nbformat_minor": 2
}
