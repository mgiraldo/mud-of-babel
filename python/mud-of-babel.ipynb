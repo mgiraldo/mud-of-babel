{
 "cells": [
  {
   "cell_type": "code",
   "execution_count": 4,
   "metadata": {},
   "outputs": [],
   "source": [
    "import json"
   ]
  },
  {
   "cell_type": "code",
   "execution_count": 5,
   "metadata": {},
   "outputs": [],
   "source": [
    "def load_json(file):\n",
    "    f = open(file, 'r')\n",
    "    return json.load(f)"
   ]
  },
  {
   "cell_type": "code",
   "execution_count": 6,
   "metadata": {},
   "outputs": [],
   "source": [
    "def write_json(data):\n",
    "    encoded_data = json.JSONEncoder(indent=2).encode(data)\n",
    "    \n",
    "    f = open('mud_of_babel_data.json', 'w')\n",
    "    f.write(encoded_data)"
   ]
  },
  {
   "cell_type": "code",
   "execution_count": 7,
   "metadata": {},
   "outputs": [],
   "source": [
    "def build_basic_game_info():\n",
    "    return {\n",
    "        'commandCounter' : 0,\n",
    "        'gameOver' : False,\n",
    "        'introText' : '\\n\\nWelcome to the MUD of Babel!\\n',\n",
    "        'outroText' : 'Thanks For playing!',\n",
    "        'player' : {\n",
    "            'currentLocation' : '',\n",
    "            'inventory' : {},\n",
    "            'lightSource' : False\n",
    "        },\n",
    "        'map': {}\n",
    "    }"
   ]
  },
  {
   "cell_type": "code",
   "execution_count": 13,
   "metadata": {},
   "outputs": [],
   "source": [
    "def build_room(key, name, description, exits={}, interactables={}, items={}):\n",
    "    return {\n",
    "        key: {\n",
    "            'firstVisit' : True,\n",
    "            'displayName' : name,\n",
    "            'description' : description,\n",
    "#             'setup' : 'function(){end();}',\n",
    "            'interactables' : interactables,\n",
    "            'items' : items,\n",
    "            'exits' : exits\n",
    "        }\n",
    "    }\n"
   ]
  },
  {
   "cell_type": "code",
   "execution_count": 135,
   "metadata": {},
   "outputs": [],
   "source": [
    "def build_plaza(subject, code, children):\n",
    "    _child_count = len(children)\n",
    "    name = '%s Plaza' % subject\n",
    "    be_str = 'are' if _child_count != 1 else 'is'\n",
    "    building_str = 'buildings' if _child_count != 1 else 'building'\n",
    "    their_str = 'their' if _child_count != 1 else 'its'\n",
    "    description = 'You are in an expansive plaza surrounded by %s %s conforming %s.\\nThe %s %s accessible via %s classification code, visible above the main door:' % (_child_count, building_str, subject, building_str, be_str, their_str)\n",
    "    exits = {}\n",
    "    entrances = []\n",
    "    for key, val in children:\n",
    "        exit_key = \"%s_%s\" % (code, val['id'])\n",
    "        entrances.append('[%s] “%s” Building' % (exit_key, val['subject']))\n",
    "        exits.update({\n",
    "            exit_key : {\n",
    "                'displayName' : exit_key,\n",
    "                'destination' : exit_key\n",
    "            }\n",
    "        })\n",
    "    description = '%s %s.' % (description, ', '.join(entrances))\n",
    "    return build_room(key=\"Plaza\", name=name, description=description, exits=exits)"
   ]
  },
  {
   "cell_type": "code",
   "execution_count": 136,
   "metadata": {},
   "outputs": [],
   "source": [
    "def build_building(subject, code, children):\n",
    "    _child_count = len(children)\n",
    "    be_str = 'are' if _child_count != 1 else 'is'\n",
    "    room_str = 'rooms' if _child_count != 1 else 'room'\n",
    "    description = 'There %s %s %s throughout this building. Visit them with the appropriate code.' % (be_str, _child_count, room_str)\n",
    "    exits = {\n",
    "        code : {\n",
    "            'displayName' : 'Main Plaza',\n",
    "            'destination' : 'Plaza'\n",
    "        }\n",
    "    }\n",
    "    entrances = []\n",
    "    for key, val in children:\n",
    "        exit_key = \"%s_%s\" % (code, val['id'])\n",
    "        entrances.append('[%s] “%s” Room' % (exit_key, val['subject']))\n",
    "        exits.update({\n",
    "            exit_key : {\n",
    "                'displayName' : exit_key,\n",
    "                'destination' : exit_key\n",
    "            }\n",
    "        })\n",
    "    description = '%s %s.' % (description, ', '.join(entrances))\n",
    "    return build_room(key=code, name=subject, description=description, exits=exits)"
   ]
  },
  {
   "cell_type": "code",
   "execution_count": 137,
   "metadata": {},
   "outputs": [],
   "source": [
    "def parse_class_file(class_code):\n",
    "    game_info = build_basic_game_info()\n",
    "\n",
    "    raw_json = load_json((\"%s.json\" % class_code))\n",
    "    subject = raw_json[class_code]['subject']\n",
    "\n",
    "    rooms = build_plaza(subject=subject, code=class_code, children=raw_json[class_code]['children'].items())\n",
    "\n",
    "    for child_key, section in raw_json[class_code]['children'].items():\n",
    "        section_code = '%s_%s' % (class_code, child_key)\n",
    "        \n",
    "        rooms.update(build_building(subject=section['subject'], code=section_code, children=section['children'].items()))\n",
    "\n",
    "        for key, value in section['children'].items():\n",
    "            room_code = '%s_%s' % (section_code, key)\n",
    "            room_subject = value['subject']\n",
    "            exits = {\n",
    "                'exit' : {\n",
    "                    'displayName' : 'Lobby',\n",
    "                    'destination' : section_code\n",
    "                }\n",
    "            }\n",
    "            room = build_room(key=room_code, name=room_subject, description=room_subject, exits=exits)\n",
    "            rooms.update(room)\n",
    "    \n",
    "    first_room = list(rooms.keys())[0]\n",
    "    game_info['map'] = rooms\n",
    "    game_info['player']['currentLocation'] = first_room\n",
    "    write_json(game_info)\n",
    "\n",
    "parse_class_file('A')"
   ]
  },
  {
   "cell_type": "code",
   "execution_count": null,
   "metadata": {},
   "outputs": [],
   "source": []
  },
  {
   "cell_type": "code",
   "execution_count": null,
   "metadata": {},
   "outputs": [],
   "source": []
  },
  {
   "cell_type": "code",
   "execution_count": null,
   "metadata": {},
   "outputs": [],
   "source": []
  }
 ],
 "metadata": {
  "kernelspec": {
   "display_name": "Python 3",
   "language": "python",
   "name": "python3"
  },
  "language_info": {
   "codemirror_mode": {
    "name": "ipython",
    "version": 3
   },
   "file_extension": ".py",
   "mimetype": "text/x-python",
   "name": "python",
   "nbconvert_exporter": "python",
   "pygments_lexer": "ipython3",
   "version": "3.6.3"
  }
 },
 "nbformat": 4,
 "nbformat_minor": 2
}
